{
 "cells": [
  {
   "cell_type": "markdown",
   "id": "c0afe3bc",
   "metadata": {},
   "source": [
    "Consider following code to answer further questions:\n",
    "import pandas as pd\n",
    "course_name = [‘Data Science’, ‘Machine Learning’, ‘Big Data’, ‘Data Engineer’]\n",
    "duration = [2,3,6,4]\n",
    "df = pd.DataFrame(data = {‘course_name’ : course_name, ‘duration’ : duration})\n",
    "Q1. Write a code to print the data present in the second row of the dataframe, df."
   ]
  },
  {
   "cell_type": "code",
   "execution_count": 1,
   "id": "7ffa2485",
   "metadata": {},
   "outputs": [
    {
     "name": "stdout",
     "output_type": "stream",
     "text": [
      "course_name    Machine Learning\n",
      "duration                      3\n",
      "Name: 1, dtype: object\n"
     ]
    }
   ],
   "source": [
    "import pandas as pd\n",
    "\n",
    "course_name = ['Data Science', 'Machine Learning', 'Big Data', 'Data Engineer']\n",
    "duration = [2, 3, 6, 4]\n",
    "\n",
    "# Create a DataFrame\n",
    "df = pd.DataFrame(data={'course_name': course_name, 'duration': duration})\n",
    "\n",
    "# Print the data present in the second row of the dataframe\n",
    "print(df.iloc[1])\n"
   ]
  },
  {
   "cell_type": "markdown",
   "id": "a35f941a",
   "metadata": {},
   "source": [
    "Q2. What is the difference between the functions loc and iloc in pandas.DataFrame?"
   ]
  },
  {
   "cell_type": "markdown",
   "id": "2ea4b0b6",
   "metadata": {},
   "source": [
    "Ans:\n",
    "    \n",
    "    Both loc and iloc are indexer functions in a Pandas DataFrame, but they serve slightly different purposes:\n",
    "\n",
    "    1. iloc:\n",
    "    Position-Based Indexing: iloc is primarily integer-location based indexing, which means you use the integer index to \n",
    "        access elements.\n",
    "    Integer-Based Slicing: You can use iloc to access rows and columns by their integer index position.\n",
    "    Example: df.iloc[1] would retrieve the second row of the DataFrame.\n",
    "        \n",
    "    2. loc:\n",
    "    Label-Based Indexing: loc is label-based indexing, which means you use the row and column labels to access elements.\n",
    "    Label-Based Slicing: You can use loc to access rows and columns using their labels or a boolean array.\n",
    "    Example: df.loc[1] would retrieve the row labeled with index '1'.\n",
    "        \n",
    "    Key Difference:\n",
    "    The primary difference between loc and iloc lies in how you reference data.\n",
    "    With iloc, you're strictly using integer-based indexing (position-based).\n",
    "    With loc, you're using label-based indexing.\n"
   ]
  },
  {
   "cell_type": "markdown",
   "id": "1c9acc91",
   "metadata": {},
   "source": [
    "Q03. Consider following code to answer further questions:\n",
    "import pandas as pd\n",
    "course_name = [‘Data Science’, ‘Machine Learning’, ‘Big Data’, ‘Data Engineer’]\n",
    "duration = [2,3,6,4]\n",
    "df = pd.DataFrame(data = {‘course_name’ : course_name, ‘duration’ : duration})\n",
    "Reindex the given dataframe using a variable, reindex = [3,0,1,2] and store it in the variable, new_df\n",
    "then find the output for both new_df.loc[2] and new_df.iloc[2].\n",
    "Did you observe any difference in both the outputs? If so then explain it.\n",
    "Consider the below code to answer further questions:\n",
    "import pandas as pd\n",
    "import numpy as np\n",
    "columns = ['column_1', 'column_2', 'column_3', 'column_4', 'column_5', 'column_6']\n",
    "indices = [1,2,3,4,5,6]\n",
    "#Creating a dataframe:\n",
    "df1 = pd.DataFrame(np.random.rand(6,6), columns = columns, index = indices)"
   ]
  },
  {
   "cell_type": "code",
   "execution_count": 2,
   "id": "410533bb",
   "metadata": {},
   "outputs": [
    {
     "name": "stdout",
     "output_type": "stream",
     "text": [
      "course_name    Big Data\n",
      "duration              6\n",
      "Name: 2, dtype: object\n",
      "course_name    Machine Learning\n",
      "duration                      3\n",
      "Name: 1, dtype: object\n"
     ]
    }
   ],
   "source": [
    "import pandas as pd\n",
    "\n",
    "# Correcting the string representations\n",
    "course_name = ['Data Science', 'Machine Learning', 'Big Data', 'Data Engineer']\n",
    "duration = [2, 3, 6, 4]\n",
    "\n",
    "# Create the dataframe df\n",
    "df = pd.DataFrame(data={'course_name': course_name, 'duration': duration})\n",
    "\n",
    "# Reindexing the dataframe\n",
    "reindex = [3, 0, 1, 2]\n",
    "new_df = df.reindex(reindex)\n",
    "\n",
    "# Output for new_df.loc[2] and new_df.iloc[2]\n",
    "print(new_df.loc[2])    # Label-based indexing\n",
    "print(new_df.iloc[2])   # Position-based indexing\n"
   ]
  },
  {
   "cell_type": "markdown",
   "id": "c2c62815",
   "metadata": {},
   "source": [
    "Q4. Write a code to find the following statistical measurements for the above dataframe df1:\n",
    "(i) mean of each and every column present in the dataframe.\n",
    "(ii) standard deviation of column, ‘column_2’"
   ]
  },
  {
   "cell_type": "code",
   "execution_count": 3,
   "id": "4ba6cd3a",
   "metadata": {},
   "outputs": [
    {
     "name": "stdout",
     "output_type": "stream",
     "text": [
      "Mean of each column:\n",
      "column_1    0.434660\n",
      "column_2    0.533566\n",
      "column_3    0.462940\n",
      "column_4    0.538567\n",
      "column_5    0.702727\n",
      "column_6    0.161054\n",
      "dtype: float64\n",
      "\n",
      "Standard deviation of 'column_2':\n",
      "0.29052972272106725\n"
     ]
    }
   ],
   "source": [
    "import pandas as pd\n",
    "import numpy as np\n",
    "\n",
    "# Given DataFrame df1\n",
    "columns = ['column_1', 'column_2', 'column_3', 'column_4', 'column_5', 'column_6']\n",
    "indices = [1, 2, 3, 4, 5, 6]\n",
    "\n",
    "# Creating a DataFrame with random values\n",
    "df1 = pd.DataFrame(np.random.rand(6, 6), columns=columns, index=indices)\n",
    "\n",
    "# (i) Mean of each and every column present in the dataframe\n",
    "print(\"Mean of each column:\")\n",
    "print(df1.mean())\n",
    "\n",
    "# (ii) Standard deviation of column 'column_2'\n",
    "print(\"\\nStandard deviation of 'column_2':\")\n",
    "print(df1['column_2'].std())\n"
   ]
  },
  {
   "cell_type": "markdown",
   "id": "8ce2cbd1",
   "metadata": {},
   "source": [
    "Q5. Replace the data present in the second row of column, ‘column_2’ by a string variable then find the\n",
    "mean of column, column_2.\n",
    "If you are getting errors in executing it then explain why.\n",
    "[Hint: To replace the data use df1.loc[] and equate this to string data of your choice.]"
   ]
  },
  {
   "cell_type": "code",
   "execution_count": 6,
   "id": "a9eff4e2",
   "metadata": {},
   "outputs": [
    {
     "name": "stdout",
     "output_type": "stream",
     "text": [
      "Error encountered: unsupported operand type(s) for +: 'float' and 'str'\n"
     ]
    }
   ],
   "source": [
    "# Replace the data in the second row of 'column_2' with a string\n",
    "df1.loc[2, 'column_2'] = 'some_string'\n",
    "\n",
    "# Attempt to find the mean of 'column_2'\n",
    "try:\n",
    "    mean_column_2 = df1['column_2'].mean()\n",
    "    print(\"Mean of 'column_2':\", mean_column_2)\n",
    "except TypeError as e:\n",
    "    print(f\"Error encountered: {e}\")\n",
    "    \n",
    "'''Explanation:\n",
    "After replacing the data in the second row of 'column_2' with a string value 'some_string', the column now contains mixed\n",
    "data types: it has both numerical (float) values and a string value.\n",
    "When you attempt to calculate the mean of 'column_2' using .mean(), you will encounter a TypeError because you cannot \n",
    "calculate the mean of a column with mixed data types. The presence of the string value disrupts the numerical operations.'''\n",
    "\n",
    "    \n"
   ]
  },
  {
   "cell_type": "markdown",
   "id": "a9d9c9ac",
   "metadata": {},
   "source": [
    "Q6. What do you understand about the windows function in pandas and list the types of windows\n",
    "functions?"
   ]
  },
  {
   "cell_type": "markdown",
   "id": "6b339612",
   "metadata": {},
   "source": [
    "Ans:\n",
    "    \n",
    "    \n",
    "    In pandas, the term \"window functions\" refers to operations that are applied over a rolling or expanding window on a \n",
    "    series or DataFrame. These functions allow you to perform calculations on a specified window of data, typically used\n",
    "    for time series data or when analyzing rolling metrics.\n",
    "\n",
    "    Here are the types of window functions available in pandas:\n",
    "\n",
    "    Rolling Window Functions (rolling()):\n",
    "\n",
    "    This type of window function is applied over a fixed-size moving window of the data.\n",
    "    Commonly used for calculating rolling metrics such as rolling mean, rolling sum, rolling standard deviation, etc.\n",
    "    \n",
    "    # Example: Calculate the 3-day rolling mean of a time series\n",
    "    df['column_name'].rolling(window=3).mean()\n",
    "\n",
    "    Expanding Window Functions (expanding()):\n",
    "\n",
    "    This type of window function expands the size of the window with each new observation.\n",
    "    Useful when you want to compute a metric that includes all the data up to a certain point.\n",
    "    # Example: Calculate the expanding sum of a series\n",
    "    df['column_name'].expanding().sum()\n",
    "\n",
    "    Exponentially Weighted Moving Average (EWMA) Functions (ewm()):\n",
    "\n",
    "    EWMA gives more weight to the more recent data points while calculating the metric, with exponentially decreasing weights\n",
    "    as you go back in time.\n",
    "    Useful for calculating metrics that give more importance to recent observations while still considering older ones.\n",
    "    # Example: Calculate the EWMA with a span of 3\n",
    "    df['column_name'].ewm(span=3).mean()"
   ]
  },
  {
   "cell_type": "markdown",
   "id": "28264b8b",
   "metadata": {},
   "source": [
    "Q7. Write a code to print only the current month and year at the time of answering this question.\n",
    "[Hint: Use pandas.datetime function]"
   ]
  },
  {
   "cell_type": "code",
   "execution_count": 7,
   "id": "2b6b5409",
   "metadata": {},
   "outputs": [
    {
     "name": "stdout",
     "output_type": "stream",
     "text": [
      "Current month: 1\n",
      "Current year: 2024\n"
     ]
    }
   ],
   "source": [
    "import pandas as pd\n",
    "\n",
    "# Get the current timestamp\n",
    "current_timestamp = pd.Timestamp.now()\n",
    "\n",
    "# Extract the month and year from the timestamp\n",
    "current_month = current_timestamp.month\n",
    "current_year = current_timestamp.year\n",
    "\n",
    "# Print the current month and year\n",
    "print(f\"Current month: {current_month}\")\n",
    "print(f\"Current year: {current_year}\")\n"
   ]
  },
  {
   "cell_type": "markdown",
   "id": "ecec861b",
   "metadata": {},
   "source": [
    "Q8. Write a Python program that takes in two dates as input (in the format YYYY-MM-DD) and\n",
    "calculates the difference between them in days, hours, and minutes using Pandas time delta. The\n",
    "program should prompt the user to enter the dates and display the result."
   ]
  },
  {
   "cell_type": "code",
   "execution_count": 8,
   "id": "fa9571f1",
   "metadata": {},
   "outputs": [
    {
     "name": "stdout",
     "output_type": "stream",
     "text": [
      "Enter the start date (YYYY-MM-DD format): 2001-10-14\n",
      "Enter the end date (YYYY-MM-DD format): 2024-01-11\n",
      "Difference: 8124 days, 0 hours, and 0 minutes.\n"
     ]
    }
   ],
   "source": [
    "from datetime import datetime\n",
    "import pandas as pd\n",
    "\n",
    "def calculate_time_difference(start_date, end_date):\n",
    "    # Convert the input strings to datetime objects\n",
    "    start_datetime = datetime.strptime(start_date, '%Y-%m-%d')\n",
    "    end_datetime = datetime.strptime(end_date, '%Y-%m-%d')\n",
    "    \n",
    "    # Calculate the difference using pandas Timedelta\n",
    "    time_difference = pd.Timedelta(end_datetime - start_datetime)\n",
    "    \n",
    "    # Extract days, hours, and minutes from the timedelta object\n",
    "    days = time_difference.days\n",
    "    hours = time_difference.seconds // 3600  # 1 hour = 3600 seconds\n",
    "    minutes = (time_difference.seconds % 3600) // 60  # 1 minute = 60 seconds\n",
    "    \n",
    "    return days, hours, minutes\n",
    "\n",
    "# Prompt the user to enter the two dates\n",
    "start_date = input(\"Enter the start date (YYYY-MM-DD format): \")\n",
    "end_date = input(\"Enter the end date (YYYY-MM-DD format): \")\n",
    "\n",
    "# Calculate the time difference\n",
    "days_diff, hours_diff, minutes_diff = calculate_time_difference(start_date, end_date)\n",
    "\n",
    "# Display the result\n",
    "print(f\"Difference: {days_diff} days, {hours_diff} hours, and {minutes_diff} minutes.\")\n"
   ]
  },
  {
   "cell_type": "markdown",
   "id": "407eb2b2",
   "metadata": {},
   "source": [
    "Q9. Write a Python program that reads a CSV file containing categorical data and converts a specified\n",
    "column to a categorical data type. The program should prompt the user to enter the file path, column\n",
    "name, and category order, and then display the sorted data."
   ]
  },
  {
   "cell_type": "code",
   "execution_count": null,
   "id": "6a681d22",
   "metadata": {},
   "outputs": [],
   "source": [
    "import pandas as pd\n",
    "\n",
    "def convert_and_sort_csv_column(file_path, column_name, category_order):\n",
    "    # Read the CSV file into a DataFrame\n",
    "    df = pd.read_csv(file_path)\n",
    "    \n",
    "    # Convert the specified column to categorical data type\n",
    "    df[column_name] = df[column_name].astype('category')\n",
    "    \n",
    "    # Set the category order for the specified column\n",
    "    df[column_name] = df[column_name].cat.set_categories(category_order)\n",
    "    \n",
    "    # Sort the DataFrame based on the specified column\n",
    "    sorted_df = df.sort_values(by=column_name)\n",
    "    \n",
    "    return sorted_df\n",
    "\n",
    "def main():\n",
    "    # Prompt the user to enter the file path, column name, and category order\n",
    "    file_path = input(\"Enter the file path of the CSV file: \")\n",
    "    column_name = input(\"Enter the column name you want to convert to categorical data type: \")\n",
    "    \n",
    "    # Get the category order from the user as a comma-separated string and convert it to a list\n",
    "    category_order_str = input(\"Enter the category order (comma-separated, e.g., 'cat1,cat2,cat3'): \")\n",
    "    category_order = category_order_str.split(',')\n",
    "    \n",
    "    # Call the function to convert and sort the specified column\n",
    "    sorted_df = convert_and_sort_csv_column(file_path, column_name, category_order)\n",
    "    \n",
    "    # Display the sorted DataFrame\n",
    "    print(\"\\nSorted DataFrame based on the specified column:\")\n",
    "    print(sorted_df)\n",
    "\n",
    "if __name__ == \"__main__\":\n",
    "    main()\n"
   ]
  },
  {
   "cell_type": "markdown",
   "id": "8f8ce0cd",
   "metadata": {},
   "source": [
    "Q10. Write a Python program that reads a CSV file containing sales data for different products and\n",
    "visualizes the data using a stacked bar chart to show the sales of each product category over time. The\n",
    "program should prompt the user to enter the file path and display the chart."
   ]
  },
  {
   "cell_type": "code",
   "execution_count": null,
   "id": "ce4c117b",
   "metadata": {},
   "outputs": [],
   "source": [
    "import pandas as pd\n",
    "import matplotlib.pyplot as plt\n",
    "\n",
    "def visualize_sales_data(file_path):\n",
    "    # Read the CSV file into a DataFrame\n",
    "    df = pd.read_csv(file_path)\n",
    "    \n",
    "    # Ensure that the required columns (e.g., 'Date', 'Product_Category', 'Sales') exist in the DataFrame\n",
    "    if 'Date' not in df.columns or 'Product_Category' not in df.columns or 'Sales' not in df.columns:\n",
    "        print(\"The CSV file should contain 'Date', 'Product_Category', and 'Sales' columns.\")\n",
    "        return\n",
    "    \n",
    "    # Convert the 'Date' column to datetime format\n",
    "    df['Date'] = pd.to_datetime(df['Date'])\n",
    "    \n",
    "    # Group the data by 'Date' and 'Product_Category' and sum the sales\n",
    "    grouped_data = df.groupby(['Date', 'Product_Category'])['Sales'].sum().unstack()\n",
    "    \n",
    "    # Plotting the stacked bar chart\n",
    "    stacked_plot = grouped_data.plot(kind='bar', stacked=True, figsize=(10, 6))\n",
    "    \n",
    "    # Set plot attributes\n",
    "    plt.title('Stacked Bar Chart of Sales by Product Category Over Time')\n",
    "    plt.xlabel('Date')\n",
    "    plt.ylabel('Sales')\n",
    "    plt.xticks(rotation=45)\n",
    "    plt.legend(title='Product Category', bbox_to_anchor=(1.05, 1), loc='upper left')\n",
    "    \n",
    "    # Display the plot\n",
    "    plt.tight_layout()\n",
    "    plt.show()\n",
    "\n",
    "def main():\n",
    "    # Prompt the user to enter the file path of the CSV file containing sales data\n",
    "    file_path = input(\"Enter the file path of the CSV file containing sales data: \")\n",
    "    \n",
    "    # Call the function to visualize the sales data using a stacked bar chart\n",
    "    visualize_sales_data(file_path)\n",
    "\n",
    "if __name__ == \"__main__\":\n",
    "    main()\n"
   ]
  },
  {
   "cell_type": "markdown",
   "id": "6ca921e7",
   "metadata": {},
   "source": [
    "Q11. You are given a CSV file containing student data that includes the student ID and their test score. Write\n",
    "a Python program that reads the CSV file, calculates the mean, median, and mode of the test scores, and\n",
    "displays the results in a table.\n",
    "The program should do the followingM\n",
    "I Prompt the user to enter the file path of the CSV file containing the student dataR\n",
    "I Read the CSV file into a Pandas DataFrameR\n",
    "I Calculate the mean, median, and mode of the test scores using Pandas toolsR\n",
    "I Display the mean, median, and mode in a table.\n",
    "Assume the CSV file contains the following columnsM\n",
    "I Student ID: The ID of the studentR\n",
    "I Test Score: The score of the student's test.\n",
    "Example usage of the program:\n",
    "Enter the file path of the CSV file containing the student data: student_data.csv\n",
    "+-----------+--------+\n",
    "| Statistic | Value |\n",
    "+-----------+--------+\n",
    "| Mean | 79.6 |\n",
    "| Median | 82 |\n",
    "| Mode | 85, 90 |\n",
    "+-----------+--------+\n",
    "Assume that the CSV file student_data.csv contains the following data:\n",
    "Student ID,Test Score\n",
    "1,85\n",
    "2,90\n",
    "3,80\n",
    "4,75\n",
    "5,85\n",
    "6,82\n",
    "7,78\n",
    "8,85\n",
    "9,90\n",
    "10,85\n",
    "The program should calculate the mean, median, and mode of the test scores and display the results\n",
    "in a table."
   ]
  },
  {
   "cell_type": "code",
   "execution_count": null,
   "id": "a8ee1c10",
   "metadata": {},
   "outputs": [],
   "source": [
    "import pandas as pd\n",
    "from tabulate import tabulate\n",
    "\n",
    "def calculate_statistics(file_path):\n",
    "    # Read the CSV file into a DataFrame\n",
    "    df = pd.read_csv(file_path)\n",
    "    \n",
    "    # Calculate mean, median, and mode of the 'Test Score' column\n",
    "    mean_score = df['Test Score'].mean()\n",
    "    median_score = df['Test Score'].median()\n",
    "    mode_score = df['Test Score'].mode()\n",
    "    \n",
    "    # Create a table to display the statistics\n",
    "    table = [\n",
    "        [\"Statistic\", \"Value\"],\n",
    "        [\"Mean\", mean_score],\n",
    "        [\"Median\", median_score],\n",
    "        [\"Mode\", ', '.join(map(str, mode_score.tolist()))]\n",
    "    ]\n",
    "    \n",
    "    # Display the table using the tabulate library\n",
    "    print(tabulate(table, headers=\"firstrow\", tablefmt=\"grid\"))\n",
    "\n",
    "def main():\n",
    "    # Prompt the user to enter the file path of the CSV file containing student data\n",
    "    file_path = input(\"Enter the file path of the CSV file containing the student data: \")\n",
    "    \n",
    "    # Call the function to calculate statistics and display the table\n",
    "    calculate_statistics(file_path)\n",
    "\n",
    "if __name__ == \"__main__\":\n",
    "    main()\n"
   ]
  },
  {
   "cell_type": "code",
   "execution_count": null,
   "id": "53974a12",
   "metadata": {},
   "outputs": [],
   "source": []
  }
 ],
 "metadata": {
  "kernelspec": {
   "display_name": "Python 3 (ipykernel)",
   "language": "python",
   "name": "python3"
  },
  "language_info": {
   "codemirror_mode": {
    "name": "ipython",
    "version": 3
   },
   "file_extension": ".py",
   "mimetype": "text/x-python",
   "name": "python",
   "nbconvert_exporter": "python",
   "pygments_lexer": "ipython3",
   "version": "3.9.13"
  }
 },
 "nbformat": 4,
 "nbformat_minor": 5
}
